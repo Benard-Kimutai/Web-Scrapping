{
 "cells": [
  {
   "cell_type": "code",
   "execution_count": 1,
   "id": "cb4f15c5",
   "metadata": {},
   "outputs": [],
   "source": [
    "from selenium import webdriver\n",
    "from selenium.webdriver.chrome.service import Service\n",
    "from selenium.webdriver.common.by import By\n",
    "import time\n",
    "from selenium.webdriver.common.keys import Keys\n",
    "from selenium.webdriver.support.wait import WebDriverWait\n",
    "from selenium.webdriver.support import expected_conditions as EC\n",
    "from selenium.common.exceptions import StaleElementReferenceException\n",
    "from selenium.webdriver.support.ui import WebDriverWait\n",
    "import pandas as pd"
   ]
  },
  {
   "cell_type": "code",
   "execution_count": 2,
   "id": "199359d3",
   "metadata": {},
   "outputs": [],
   "source": [
    "PATH = \"C:\\\\Program Files (x86)\\\\chromedriver.exe\""
   ]
  },
  {
   "cell_type": "code",
   "execution_count": 4,
   "id": "2037e971",
   "metadata": {},
   "outputs": [],
   "source": [
    "service = Service(PATH)"
   ]
  },
  {
   "cell_type": "code",
   "execution_count": 5,
   "id": "e8e4e2e4",
   "metadata": {},
   "outputs": [],
   "source": [
    "driver = webdriver.Chrome(service=service)"
   ]
  },
  {
   "cell_type": "code",
   "execution_count": 6,
   "id": "89e2da55",
   "metadata": {},
   "outputs": [],
   "source": [
    "driver.get(\"https://www.google.com/search?sca_esv=af0b90c6614b7d36&rlz=1C1CHBD_enKE776KE776&tbs=lf:1,lf_ui:2&tbm=lcl&q=dental+clinics+in+nairobi&rflfq=1&num=10&sa=X&ved=2ahUKEwi6wdPkwNWGAxX6_bsIHQw1DdMQjGp6BAghEAE&biw=1366&bih=589&dpr=1#rlfi=hd:;si:;mv:[[-1.1894227,36.9334433],[-1.3213423,36.7626953]];tbs:lrf:!1m4!1u3!2m2!3m1!1e1!1m4!1u2!2m2!2m1!1e1!2m1!1e2!2m1!1e3!2m4!1e17!4m2!17m1!1e2!3sIAE,lf:1,lf_ui:2\")"
   ]
  },
  {
   "cell_type": "code",
   "execution_count": 7,
   "id": "fd9e1783",
   "metadata": {},
   "outputs": [],
   "source": [
    "All_dental_clinics = []"
   ]
  },
  {
   "cell_type": "code",
   "execution_count": 8,
   "id": "3de132d9",
   "metadata": {},
   "outputs": [
    {
     "name": "stdout",
     "output_type": "stream",
     "text": [
      "Data has been saved to Dental.Clinic_datas.xlsx\n"
     ]
    }
   ],
   "source": [
    "# Function to extract data from the current page\n",
    "def extract_clinic_data():\n",
    "    clinic_divs = driver.find_elements(By.CSS_SELECTOR, 'div.rllt__details')\n",
    "    for div in clinic_divs:\n",
    "        try:\n",
    "            # Extract clinic name\n",
    "            clinic_name = div.find_element(By.CSS_SELECTOR, 'div.dbg0pd').text\n",
    "\n",
    "            # Try to extract rating\n",
    "            try:\n",
    "                rating_span = div.find_element(By.CSS_SELECTOR, 'span.Y0A0hc > span.yi40Hd.YrbPuc')\n",
    "                rating = rating_span.text.strip()\n",
    "            except:\n",
    "                rating = 'No rating available'\n",
    "            \n",
    "            # Extract status and closing time\n",
    "            status_and_closing_time = div.find_elements(By.TAG_NAME, 'div')[3].text\n",
    "\n",
    "            # Extract location by splitting the text and removing the phone number\n",
    "            location = status_and_closing_time.split('·')[0].strip()\n",
    "\n",
    "            # Extract phone number\n",
    "            phone_number = status_and_closing_time.split('·')[-1].strip()\n",
    "\n",
    "            # Add the extracted information to the list\n",
    "            All_dental_clinics.append({\n",
    "                'Clinic Name': clinic_name,\n",
    "                'Rating': rating,\n",
    "                'Location': location,\n",
    "                'Phone Number': phone_number\n",
    "            })\n",
    "        except Exception as e:\n",
    "            print(f'An error occurred: {e}')\n",
    "\n",
    "\n",
    "\n",
    "# Iterate through pages 1 to 11\n",
    "for page_num in range(1, 11):\n",
    "    extract_clinic_data()\n",
    "    try:\n",
    "        # Find the 'Next' button and click it to go to the next page\n",
    "        next_button = driver.find_element(By.CSS_SELECTOR, 'a#pnnext')  # Adjust the selector if necessary\n",
    "        next_button.click()\n",
    "        time.sleep(3)  # Wait for the next page to load\n",
    "    except Exception as e:\n",
    "        print(f'Could not navigate to page {page_num + 1}: {e}')\n",
    "        break\n",
    "\n",
    "# Close the WebDriver\n",
    "driver.quit()\n",
    "# Convert the list of clinics to a DataFrame\n",
    "df = pd.DataFrame(All_dental_clinics)\n",
    "\n",
    "# Save the DataFrame to an Excel file\n",
    "df.to_excel('Dental.Clinic_datas.xlsx', index=False)\n",
    "\n",
    "print('Data has been saved to Dental.Clinic_datas.xlsx')\n"
   ]
  },
  {
   "cell_type": "code",
   "execution_count": null,
   "id": "467ac9bd",
   "metadata": {},
   "outputs": [],
   "source": []
  },
  {
   "cell_type": "code",
   "execution_count": null,
   "id": "3cfe2d62",
   "metadata": {},
   "outputs": [],
   "source": []
  },
  {
   "cell_type": "code",
   "execution_count": null,
   "id": "9bf348d7",
   "metadata": {},
   "outputs": [],
   "source": []
  },
  {
   "cell_type": "code",
   "execution_count": null,
   "id": "69bd9742",
   "metadata": {},
   "outputs": [],
   "source": []
  }
 ],
 "metadata": {
  "kernelspec": {
   "display_name": "Python 3 (ipykernel)",
   "language": "python",
   "name": "python3"
  },
  "language_info": {
   "codemirror_mode": {
    "name": "ipython",
    "version": 3
   },
   "file_extension": ".py",
   "mimetype": "text/x-python",
   "name": "python",
   "nbconvert_exporter": "python",
   "pygments_lexer": "ipython3",
   "version": "3.10.9"
  }
 },
 "nbformat": 4,
 "nbformat_minor": 5
}
